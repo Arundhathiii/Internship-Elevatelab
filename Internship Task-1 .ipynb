{
 "cells": [
  {
   "cell_type": "markdown",
   "id": "f5d5a772-6980-4585-8dcc-7f5c65f26349",
   "metadata": {},
   "source": [
    "# Data Cleaning and Preprocessing"
   ]
  },
  {
   "cell_type": "markdown",
   "id": "39e2d548-4689-4bac-b3f0-ad8c2ebf1bd2",
   "metadata": {},
   "source": [
    "## * Data Collection"
   ]
  },
  {
   "cell_type": "markdown",
   "id": "6d95ea85-b323-4324-8b50-1d5ce432ffab",
   "metadata": {},
   "source": [
    "### Importing necessary libraries"
   ]
  },
  {
   "cell_type": "code",
   "execution_count": 4,
   "id": "6bc7ff1d-a520-4426-bd36-991e064dc47b",
   "metadata": {},
   "outputs": [],
   "source": [
    "import warnings\n",
    "warnings.filterwarnings('ignore')\n",
    "import numpy as np\n",
    "import pandas as pd\n",
    "import matplotlib.pyplot as plt\n",
    "import seaborn as sns"
   ]
  },
  {
   "cell_type": "code",
   "execution_count": 5,
   "id": "0253fa52-bd80-4d94-a2b5-6c93db042984",
   "metadata": {},
   "outputs": [],
   "source": [
    "data = pd.read_csv(\"Sales data1.csv\")\n",
    "df = pd.DataFrame(data)"
   ]
  },
  {
   "cell_type": "code",
   "execution_count": 6,
   "id": "68fc1266-b69c-4fb2-bfb1-f7ffa2dd4055",
   "metadata": {},
   "outputs": [
    {
     "name": "stdout",
     "output_type": "stream",
     "text": [
      "Shape of the dataset is:\n"
     ]
    },
    {
     "data": {
      "text/plain": [
       "(1000, 10)"
      ]
     },
     "execution_count": 6,
     "metadata": {},
     "output_type": "execute_result"
    }
   ],
   "source": [
    "print(\"Shape of the dataset is:\")\n",
    "df.shape"
   ]
  },
  {
   "cell_type": "markdown",
   "id": "40c8f35f-658b-4f37-99df-a9060bcb4e3e",
   "metadata": {},
   "source": [
    "* There are 1000 rows and 10 columns in the dataset."
   ]
  },
  {
   "cell_type": "code",
   "execution_count": 8,
   "id": "4ef0d982-e4a0-40e3-b9ad-d6844515d218",
   "metadata": {},
   "outputs": [
    {
     "data": {
      "text/html": [
       "<div>\n",
       "<style scoped>\n",
       "    .dataframe tbody tr th:only-of-type {\n",
       "        vertical-align: middle;\n",
       "    }\n",
       "\n",
       "    .dataframe tbody tr th {\n",
       "        vertical-align: top;\n",
       "    }\n",
       "\n",
       "    .dataframe thead th {\n",
       "        text-align: right;\n",
       "    }\n",
       "</style>\n",
       "<table border=\"1\" class=\"dataframe\">\n",
       "  <thead>\n",
       "    <tr style=\"text-align: right;\">\n",
       "      <th></th>\n",
       "      <th>country</th>\n",
       "      <th>order_value_EUR</th>\n",
       "      <th>cost</th>\n",
       "      <th>date</th>\n",
       "      <th>category</th>\n",
       "      <th>customer_name</th>\n",
       "      <th>sales_manager</th>\n",
       "      <th>sales_rep</th>\n",
       "      <th>device_type</th>\n",
       "      <th>order_id</th>\n",
       "    </tr>\n",
       "  </thead>\n",
       "  <tbody>\n",
       "    <tr>\n",
       "      <th>0</th>\n",
       "      <td>Sweden</td>\n",
       "      <td>17,524.02</td>\n",
       "      <td>14122.61</td>\n",
       "      <td>02/12/2020</td>\n",
       "      <td>Books</td>\n",
       "      <td>Goldner-Dibbert</td>\n",
       "      <td>Maxie Marrow</td>\n",
       "      <td>Madelon Bront</td>\n",
       "      <td>Mobile</td>\n",
       "      <td>70-0511466</td>\n",
       "    </tr>\n",
       "    <tr>\n",
       "      <th>1</th>\n",
       "      <td>Finland</td>\n",
       "      <td>116,563.40</td>\n",
       "      <td>92807.78</td>\n",
       "      <td>9/26/2019</td>\n",
       "      <td>Games</td>\n",
       "      <td>Hilll-Vandervort</td>\n",
       "      <td>Hube Corey</td>\n",
       "      <td>Wat Bowkley</td>\n",
       "      <td>Mobile</td>\n",
       "      <td>28-6585323</td>\n",
       "    </tr>\n",
       "    <tr>\n",
       "      <th>2</th>\n",
       "      <td>Portugal</td>\n",
       "      <td>296,465.56</td>\n",
       "      <td>257480.34</td>\n",
       "      <td>07/11/2019</td>\n",
       "      <td>Clothing</td>\n",
       "      <td>Larkin-Collier</td>\n",
       "      <td>Celine Tumasian</td>\n",
       "      <td>Smitty Culverhouse</td>\n",
       "      <td>PC</td>\n",
       "      <td>58-7703341</td>\n",
       "    </tr>\n",
       "    <tr>\n",
       "      <th>3</th>\n",
       "      <td>Portugal</td>\n",
       "      <td>74,532.02</td>\n",
       "      <td>59752.32</td>\n",
       "      <td>04/02/2020</td>\n",
       "      <td>Beauty</td>\n",
       "      <td>Hessel-Stiedemann</td>\n",
       "      <td>Celine Tumasian</td>\n",
       "      <td>Aurelie Wren</td>\n",
       "      <td>PC</td>\n",
       "      <td>14-6700183</td>\n",
       "    </tr>\n",
       "    <tr>\n",
       "      <th>4</th>\n",
       "      <td>Spain</td>\n",
       "      <td>178,763.42</td>\n",
       "      <td>146621.76</td>\n",
       "      <td>12/22/2019</td>\n",
       "      <td>Games</td>\n",
       "      <td>Johns and Sons</td>\n",
       "      <td>Emalia Dinse</td>\n",
       "      <td>Bertha Walbrook</td>\n",
       "      <td>Tablet</td>\n",
       "      <td>15-8765160</td>\n",
       "    </tr>\n",
       "  </tbody>\n",
       "</table>\n",
       "</div>"
      ],
      "text/plain": [
       "    country  order_value_EUR       cost         date  category  \\\n",
       "0    Sweden         17,524.02   14122.61  02/12/2020     Books   \n",
       "1   Finland        116,563.40   92807.78   9/26/2019     Games   \n",
       "2  Portugal        296,465.56  257480.34  07/11/2019  Clothing   \n",
       "3  Portugal         74,532.02   59752.32  04/02/2020    Beauty   \n",
       "4     Spain        178,763.42  146621.76  12/22/2019     Games   \n",
       "\n",
       "       customer_name    sales_manager           sales_rep device_type  \\\n",
       "0    Goldner-Dibbert     Maxie Marrow       Madelon Bront      Mobile   \n",
       "1   Hilll-Vandervort       Hube Corey         Wat Bowkley      Mobile   \n",
       "2     Larkin-Collier  Celine Tumasian  Smitty Culverhouse          PC   \n",
       "3  Hessel-Stiedemann  Celine Tumasian        Aurelie Wren          PC   \n",
       "4     Johns and Sons     Emalia Dinse     Bertha Walbrook      Tablet   \n",
       "\n",
       "     order_id  \n",
       "0  70-0511466  \n",
       "1  28-6585323  \n",
       "2  58-7703341  \n",
       "3  14-6700183  \n",
       "4  15-8765160  "
      ]
     },
     "execution_count": 8,
     "metadata": {},
     "output_type": "execute_result"
    }
   ],
   "source": [
    "# To print the first 5 columns\n",
    "df.head()"
   ]
  },
  {
   "cell_type": "code",
   "execution_count": 9,
   "id": "c1d52beb-cb6e-40d8-80f5-4240768275c6",
   "metadata": {},
   "outputs": [
    {
     "data": {
      "text/html": [
       "<div>\n",
       "<style scoped>\n",
       "    .dataframe tbody tr th:only-of-type {\n",
       "        vertical-align: middle;\n",
       "    }\n",
       "\n",
       "    .dataframe tbody tr th {\n",
       "        vertical-align: top;\n",
       "    }\n",
       "\n",
       "    .dataframe thead th {\n",
       "        text-align: right;\n",
       "    }\n",
       "</style>\n",
       "<table border=\"1\" class=\"dataframe\">\n",
       "  <thead>\n",
       "    <tr style=\"text-align: right;\">\n",
       "      <th></th>\n",
       "      <th>country</th>\n",
       "      <th>order_value_EUR</th>\n",
       "      <th>cost</th>\n",
       "      <th>date</th>\n",
       "      <th>category</th>\n",
       "      <th>customer_name</th>\n",
       "      <th>sales_manager</th>\n",
       "      <th>sales_rep</th>\n",
       "      <th>device_type</th>\n",
       "      <th>order_id</th>\n",
       "    </tr>\n",
       "  </thead>\n",
       "  <tbody>\n",
       "    <tr>\n",
       "      <th>995</th>\n",
       "      <td>France</td>\n",
       "      <td>46,296.26</td>\n",
       "      <td>40319.41</td>\n",
       "      <td>5/15/2020</td>\n",
       "      <td>Games</td>\n",
       "      <td>Wisoky Inc</td>\n",
       "      <td>Othello Bowes</td>\n",
       "      <td>Amelina Piscopiello</td>\n",
       "      <td>Tablet</td>\n",
       "      <td>77-3489084</td>\n",
       "    </tr>\n",
       "    <tr>\n",
       "      <th>996</th>\n",
       "      <td>Belgium</td>\n",
       "      <td>118,061.05</td>\n",
       "      <td>101131.10</td>\n",
       "      <td>07/02/2020</td>\n",
       "      <td>Appliances</td>\n",
       "      <td>Johns and Sons</td>\n",
       "      <td>Lambert Norheny</td>\n",
       "      <td>Collin Mackness</td>\n",
       "      <td>Mobile</td>\n",
       "      <td>59-2117058</td>\n",
       "    </tr>\n",
       "    <tr>\n",
       "      <th>997</th>\n",
       "      <td>Finland</td>\n",
       "      <td>74,480.56</td>\n",
       "      <td>60023.88</td>\n",
       "      <td>03/06/2020</td>\n",
       "      <td>Clothing</td>\n",
       "      <td>Homenick-Marvin</td>\n",
       "      <td>Hube Corey</td>\n",
       "      <td>Wat Bowkley</td>\n",
       "      <td>PC</td>\n",
       "      <td>31-1849120</td>\n",
       "    </tr>\n",
       "    <tr>\n",
       "      <th>998</th>\n",
       "      <td>Spain</td>\n",
       "      <td>87,205.01</td>\n",
       "      <td>69171.01</td>\n",
       "      <td>6/18/2020</td>\n",
       "      <td>Games</td>\n",
       "      <td>Johns and Sons</td>\n",
       "      <td>Emalia Dinse</td>\n",
       "      <td>Manuel Goudie</td>\n",
       "      <td>Tablet</td>\n",
       "      <td>45-3085595</td>\n",
       "    </tr>\n",
       "    <tr>\n",
       "      <th>999</th>\n",
       "      <td>Portugal</td>\n",
       "      <td>107,716.72</td>\n",
       "      <td>86679.64</td>\n",
       "      <td>1/18/2020</td>\n",
       "      <td>Accessories</td>\n",
       "      <td>Jacobson, Marvin and Brown</td>\n",
       "      <td>Celine Tumasian</td>\n",
       "      <td>Brynn Dempster</td>\n",
       "      <td>Mobile</td>\n",
       "      <td>61-3294149</td>\n",
       "    </tr>\n",
       "  </tbody>\n",
       "</table>\n",
       "</div>"
      ],
      "text/plain": [
       "      country  order_value_EUR       cost         date     category  \\\n",
       "995    France         46,296.26   40319.41   5/15/2020        Games   \n",
       "996   Belgium        118,061.05  101131.10  07/02/2020   Appliances   \n",
       "997   Finland         74,480.56   60023.88  03/06/2020     Clothing   \n",
       "998     Spain         87,205.01   69171.01   6/18/2020        Games   \n",
       "999  Portugal        107,716.72   86679.64   1/18/2020  Accessories   \n",
       "\n",
       "                  customer_name    sales_manager            sales_rep  \\\n",
       "995                  Wisoky Inc    Othello Bowes  Amelina Piscopiello   \n",
       "996              Johns and Sons  Lambert Norheny      Collin Mackness   \n",
       "997             Homenick-Marvin       Hube Corey          Wat Bowkley   \n",
       "998              Johns and Sons     Emalia Dinse        Manuel Goudie   \n",
       "999  Jacobson, Marvin and Brown  Celine Tumasian       Brynn Dempster   \n",
       "\n",
       "    device_type    order_id  \n",
       "995      Tablet  77-3489084  \n",
       "996      Mobile  59-2117058  \n",
       "997          PC  31-1849120  \n",
       "998      Tablet  45-3085595  \n",
       "999      Mobile  61-3294149  "
      ]
     },
     "execution_count": 9,
     "metadata": {},
     "output_type": "execute_result"
    }
   ],
   "source": [
    "# To print the last 5 columns\n",
    "df.tail()"
   ]
  },
  {
   "cell_type": "code",
   "execution_count": 10,
   "id": "40812459-912d-4e91-9667-fe274e131e39",
   "metadata": {},
   "outputs": [
    {
     "name": "stdout",
     "output_type": "stream",
     "text": [
      "Dataset Information: \n",
      "\t\n",
      "<class 'pandas.core.frame.DataFrame'>\n",
      "RangeIndex: 1000 entries, 0 to 999\n",
      "Data columns (total 10 columns):\n",
      " #   Column             Non-Null Count  Dtype  \n",
      "---  ------             --------------  -----  \n",
      " 0   country            1000 non-null   object \n",
      " 1    order_value_EUR   1000 non-null   object \n",
      " 2    cost              1000 non-null   float64\n",
      " 3   date               1000 non-null   object \n",
      " 4   category           1000 non-null   object \n",
      " 5   customer_name      1000 non-null   object \n",
      " 6   sales_manager      1000 non-null   object \n",
      " 7   sales_rep          1000 non-null   object \n",
      " 8   device_type        1000 non-null   object \n",
      " 9   order_id           1000 non-null   object \n",
      "dtypes: float64(1), object(9)\n",
      "memory usage: 78.3+ KB\n"
     ]
    }
   ],
   "source": [
    "# To print the dataset information\n",
    "print(\"Dataset Information: \")\n",
    "print(\"\\t\")\n",
    "df.info()"
   ]
  },
  {
   "cell_type": "code",
   "execution_count": 11,
   "id": "88c75120-945e-4f08-8999-b8f4b5a15328",
   "metadata": {},
   "outputs": [
    {
     "name": "stdout",
     "output_type": "stream",
     "text": [
      "Dataset columns:\n"
     ]
    },
    {
     "data": {
      "text/plain": [
       "Index(['country', ' order_value_EUR ', ' cost ', 'date', 'category',\n",
       "       'customer_name', 'sales_manager', 'sales_rep', 'device_type',\n",
       "       'order_id'],\n",
       "      dtype='object')"
      ]
     },
     "execution_count": 11,
     "metadata": {},
     "output_type": "execute_result"
    }
   ],
   "source": [
    "# To print the columns\n",
    "print(\"Dataset columns:\")\n",
    "df.columns"
   ]
  },
  {
   "cell_type": "code",
   "execution_count": 12,
   "id": "c52ee507-007f-49b9-aa1c-07a1a0e6b945",
   "metadata": {},
   "outputs": [
    {
     "name": "stdout",
     "output_type": "stream",
     "text": [
      "Summary Statistics: \n"
     ]
    },
    {
     "data": {
      "text/html": [
       "<div>\n",
       "<style scoped>\n",
       "    .dataframe tbody tr th:only-of-type {\n",
       "        vertical-align: middle;\n",
       "    }\n",
       "\n",
       "    .dataframe tbody tr th {\n",
       "        vertical-align: top;\n",
       "    }\n",
       "\n",
       "    .dataframe thead th {\n",
       "        text-align: right;\n",
       "    }\n",
       "</style>\n",
       "<table border=\"1\" class=\"dataframe\">\n",
       "  <thead>\n",
       "    <tr style=\"text-align: right;\">\n",
       "      <th></th>\n",
       "      <th>cost</th>\n",
       "    </tr>\n",
       "  </thead>\n",
       "  <tbody>\n",
       "    <tr>\n",
       "      <th>count</th>\n",
       "      <td>1000.000000</td>\n",
       "    </tr>\n",
       "    <tr>\n",
       "      <th>mean</th>\n",
       "      <td>94369.310990</td>\n",
       "    </tr>\n",
       "    <tr>\n",
       "      <th>std</th>\n",
       "      <td>51540.020934</td>\n",
       "    </tr>\n",
       "    <tr>\n",
       "      <th>min</th>\n",
       "      <td>12113.680000</td>\n",
       "    </tr>\n",
       "    <tr>\n",
       "      <th>25%</th>\n",
       "      <td>54247.957500</td>\n",
       "    </tr>\n",
       "    <tr>\n",
       "      <th>50%</th>\n",
       "      <td>87094.760000</td>\n",
       "    </tr>\n",
       "    <tr>\n",
       "      <th>75%</th>\n",
       "      <td>125570.837500</td>\n",
       "    </tr>\n",
       "    <tr>\n",
       "      <th>max</th>\n",
       "      <td>304701.430000</td>\n",
       "    </tr>\n",
       "  </tbody>\n",
       "</table>\n",
       "</div>"
      ],
      "text/plain": [
       "               cost \n",
       "count    1000.000000\n",
       "mean    94369.310990\n",
       "std     51540.020934\n",
       "min     12113.680000\n",
       "25%     54247.957500\n",
       "50%     87094.760000\n",
       "75%    125570.837500\n",
       "max    304701.430000"
      ]
     },
     "execution_count": 12,
     "metadata": {},
     "output_type": "execute_result"
    }
   ],
   "source": [
    "print(\"Summary Statistics: \")\n",
    "df.describe()"
   ]
  },
  {
   "cell_type": "markdown",
   "id": "43566e3a-54be-41ad-8588-b86cd381ebbc",
   "metadata": {},
   "source": [
    "## Finding missing values in the dataset"
   ]
  },
  {
   "cell_type": "code",
   "execution_count": 14,
   "id": "6323ccba-c132-44fd-8c7d-dd209a9483a1",
   "metadata": {},
   "outputs": [
    {
     "name": "stdout",
     "output_type": "stream",
     "text": [
      "Missing Values\n",
      "\t\n",
      "country              0\n",
      " order_value_EUR     0\n",
      " cost                0\n",
      "date                 0\n",
      "category             0\n",
      "customer_name        0\n",
      "sales_manager        0\n",
      "sales_rep            0\n",
      "device_type          0\n",
      "order_id             0\n",
      "dtype: int64\n"
     ]
    }
   ],
   "source": [
    "missing_values = df.isnull().sum()\n",
    "print(\"Missing Values\")\n",
    "print(\"\\t\")\n",
    "print(missing_values)"
   ]
  },
  {
   "cell_type": "markdown",
   "id": "3b3ac95f-d2b0-4056-9692-79ba844b611c",
   "metadata": {},
   "source": [
    "* There are no missing values in the dataset."
   ]
  },
  {
   "cell_type": "markdown",
   "id": "26e95cd5-410e-4ebc-bd66-b6010d4a16dc",
   "metadata": {},
   "source": [
    "## Check for duplicates"
   ]
  },
  {
   "cell_type": "code",
   "execution_count": 17,
   "id": "06ec51db-04ea-43ef-be2d-60b3cbf7b8a0",
   "metadata": {},
   "outputs": [
    {
     "data": {
      "text/plain": [
       "0"
      ]
     },
     "execution_count": 17,
     "metadata": {},
     "output_type": "execute_result"
    }
   ],
   "source": [
    "df.duplicated().sum()"
   ]
  },
  {
   "cell_type": "markdown",
   "id": "7bac43ee-fc66-4323-80d5-30ac2d6dafd9",
   "metadata": {},
   "source": [
    "* There are no duplicated values in the dataset"
   ]
  },
  {
   "cell_type": "markdown",
   "id": "2c34ec85-41b3-433c-925f-db86c5345e14",
   "metadata": {},
   "source": [
    "## Fix Column Names"
   ]
  },
  {
   "cell_type": "code",
   "execution_count": 20,
   "id": "24d20f7c-3efd-4331-900f-2e3e06779ecf",
   "metadata": {},
   "outputs": [],
   "source": [
    "df.columns = df.columns.str.strip().str.lower().str.replace(\" \", \"_\")"
   ]
  },
  {
   "cell_type": "code",
   "execution_count": 21,
   "id": "99f17d3a-3e2f-4b79-bb6c-692be5f73698",
   "metadata": {},
   "outputs": [],
   "source": [
    "df['order_value_eur'] = df['order_value_eur'].str.replace(',', '').astype(float)"
   ]
  },
  {
   "cell_type": "markdown",
   "id": "0da52aa4-7fcf-4e30-8359-e8169bea9316",
   "metadata": {},
   "source": [
    "## Convert Data Types"
   ]
  },
  {
   "cell_type": "code",
   "execution_count": 23,
   "id": "63c5aef8-355d-4381-84d3-2b6786dd8485",
   "metadata": {},
   "outputs": [],
   "source": [
    "df['order_value_eur'] = df['order_value_eur'].astype(float)"
   ]
  },
  {
   "cell_type": "markdown",
   "id": "1c705668-711f-4175-ba34-eea26b3fef56",
   "metadata": {},
   "source": [
    "* Convert date to datetime format"
   ]
  },
  {
   "cell_type": "code",
   "execution_count": 25,
   "id": "847162d2-62dc-47d9-b449-2251cd24b7be",
   "metadata": {},
   "outputs": [],
   "source": [
    "df['date'] = pd.to_datetime(df['date'], errors='coerce')"
   ]
  },
  {
   "cell_type": "code",
   "execution_count": 26,
   "id": "aa65a0c9-6007-4521-add0-218725bb6bc2",
   "metadata": {},
   "outputs": [
    {
     "name": "stdout",
     "output_type": "stream",
     "text": [
      "0   2020-02-12\n",
      "1   2019-09-26\n",
      "2   2019-07-11\n",
      "3   2020-04-02\n",
      "4   2019-12-22\n",
      "Name: date, dtype: datetime64[ns]\n",
      "country                    object\n",
      "order_value_eur           float64\n",
      "cost                      float64\n",
      "date               datetime64[ns]\n",
      "category                   object\n",
      "customer_name              object\n",
      "sales_manager              object\n",
      "sales_rep                  object\n",
      "device_type                object\n",
      "order_id                   object\n",
      "dtype: object\n"
     ]
    }
   ],
   "source": [
    "print(df['date'].head())\n",
    "print(df.dtypes)"
   ]
  },
  {
   "cell_type": "markdown",
   "id": "cacdcf3d-e1c2-493d-ac57-63b76578b6b6",
   "metadata": {},
   "source": [
    "## Standardize Categorical Columns"
   ]
  },
  {
   "cell_type": "code",
   "execution_count": 28,
   "id": "1fde9dc2-ee60-41fe-b582-2a5bfe75afa4",
   "metadata": {},
   "outputs": [],
   "source": [
    "categorical_cols = ['country', 'category', 'device_type', 'sales_manager', 'sales_rep']\n",
    "df[categorical_cols] = df[categorical_cols].apply(lambda x: x.str.lower().str.strip())"
   ]
  },
  {
   "cell_type": "markdown",
   "id": "df86e01f-f8d8-43ab-9b1b-3b5feb7dda8b",
   "metadata": {},
   "source": [
    "## Create New Features"
   ]
  },
  {
   "cell_type": "code",
   "execution_count": 30,
   "id": "f8ebea95-f96d-4929-ac39-35a63dcd41e2",
   "metadata": {},
   "outputs": [],
   "source": [
    "df['profit'] = df['order_value_eur'] - df['cost']"
   ]
  },
  {
   "cell_type": "markdown",
   "id": "ff9aeaaa-a419-4cf4-9d28-895660de3199",
   "metadata": {},
   "source": [
    "## Detect and Handle Outliers "
   ]
  },
  {
   "cell_type": "code",
   "execution_count": 32,
   "id": "828e6606-376e-4649-ad87-4abefc1d6298",
   "metadata": {},
   "outputs": [
    {
     "data": {
      "image/png": "[encoded data removed]",
      "text/plain": [
       "<Figure size 1000x600 with 1 Axes>"
      ]
     },
     "metadata": {},
     "output_type": "display_data"
    },
    {
     "data": {
      "image/png": "[encoded data removed]",
      "text/plain": [
       "<Figure size 1000x600 with 1 Axes>"
      ]
     },
     "metadata": {},
     "output_type": "display_data"
    },
    {
     "data": {
      "image/png": "[encoded data removed]",
      "text/plain": [
       "<Figure size 1000x600 with 1 Axes>"
      ]
     },
     "metadata": {},
     "output_type": "display_data"
    }
   ],
   "source": [
    "# Visualizing Outliers before outlier removal\n",
    "\n",
    "num_column = df.select_dtypes(include = ['number'])\n",
    "\n",
    "for col in num_column.columns:\n",
    "    plt.figure(figsize = (10,6))\n",
    "    num_column.boxplot(column = col)\n",
    "    plt.title(f\" Box plot of {col} before outlier removal\")\n",
    "    plt.show()"
   ]
  },
  {
   "cell_type": "code",
   "execution_count": 33,
   "id": "3ba02736-e4c1-49a7-b43c-d625084e1ebe",
   "metadata": {},
   "outputs": [],
   "source": [
    "Q1 = df['order_value_eur'].quantile(0.25)\n",
    "Q3 = df['order_value_eur'].quantile(0.75)\n",
    "IQR = Q3 - Q1\n",
    "df = df[~((df['order_value_eur'] < (Q1 - 1.5 * IQR)) | (df['order_value_eur'] > (Q3 + 1.5 * IQR)))]"
   ]
  },
  {
   "cell_type": "markdown",
   "id": "9a70d0c2-129f-41d8-8419-5b05b89137b2",
   "metadata": {},
   "source": [
    "## Encode Categorical Variables"
   ]
  },
  {
   "cell_type": "code",
   "execution_count": 35,
   "id": "a0633d37-dab3-44c1-957b-78e7e2bee1e5",
   "metadata": {},
   "outputs": [],
   "source": [
    "df = pd.get_dummies(df, columns=['country', 'device_type', 'category'], drop_first=True)"
   ]
  },
  {
   "cell_type": "markdown",
   "id": "416ec51f-c2ba-4c94-84c4-e4c99f5a595b",
   "metadata": {},
   "source": [
    "## Scale Numerical Data"
   ]
  },
  {
   "cell_type": "code",
   "execution_count": 37,
   "id": "c0a921b5-6539-4bbe-bdcc-2093963490a4",
   "metadata": {},
   "outputs": [],
   "source": [
    "from sklearn.preprocessing import MinMaxScaler\n",
    "scaler = MinMaxScaler()\n",
    "df[['order_value_eur', 'cost', 'profit']] = scaler.fit_transform(df[['order_value_eur', 'cost', 'profit']])"
   ]
  },
  {
   "cell_type": "code",
   "execution_count": null,
   "id": "c0664ea3-1794-4a5b-b2bf-e838191890e4",
   "metadata": {},
   "outputs": [],
   "source": []
  },
  {
   "cell_type": "code",
   "execution_count": null,
   "id": "37758d97-3ed7-4470-aaac-7a57d9dc96bb",
   "metadata": {},
   "outputs": [],
   "source": []
  },
  {
   "cell_type": "code",
   "execution_count": null,
   "id": "2572c76b-4395-4ec2-855b-c594112e14ba",
   "metadata": {},
   "outputs": [],
   "source": []
  },
  {
   "cell_type": "code",
   "execution_count": null,
   "id": "bce349c6-d2ad-4e35-a939-a58d99fe67ec",
   "metadata": {},
   "outputs": [],
   "source": []
  }
 ],
 "metadata": {
  "kernelspec": {
   "display_name": "Python 3 (ipykernel)",
   "language": "python",
   "name": "python3"
  },
  "language_info": {
   "codemirror_mode": {
    "name": "ipython",
    "version": 3
   },
   "file_extension": ".py",
   "mimetype": "text/x-python",
   "name": "python",
   "nbconvert_exporter": "python",
   "pygments_lexer": "ipython3",
   "version": "3.12.4"
  }
 },
 "nbformat": 4,
 "nbformat_minor": 5
}
